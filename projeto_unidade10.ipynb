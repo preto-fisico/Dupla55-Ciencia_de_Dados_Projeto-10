{
  "nbformat": 4,
  "nbformat_minor": 0,
  "metadata": {
    "colab": {
      "provenance": [],
      "include_colab_link": true
    },
    "kernelspec": {
      "name": "python3",
      "display_name": "Python 3"
    },
    "language_info": {
      "name": "python"
    }
  },
  "cells": [
    {
      "cell_type": "markdown",
      "metadata": {
        "id": "view-in-github",
        "colab_type": "text"
      },
      "source": [
        "<a href=\"https://colab.research.google.com/github/preto-fisico/Dupla55-Ciencia_de_Dados_Projeto-10/blob/main/projeto_unidade10.ipynb\" target=\"_parent\"><img src=\"https://colab.research.google.com/assets/colab-badge.svg\" alt=\"Open In Colab\"/></a>"
      ]
    },
    {
      "cell_type": "code",
      "execution_count": null,
      "metadata": {
        "colab": {
          "base_uri": "https://localhost:8080/"
        },
        "id": "1Ny1sbKgWx0D",
        "outputId": "ff39b52e-f6f0-4dbb-891e-cb73ed01926f"
      },
      "outputs": [
        {
          "output_type": "stream",
          "name": "stdout",
          "text": [
            "Requirement already satisfied: kaggle in /usr/local/lib/python3.10/dist-packages (1.6.17)\n",
            "Requirement already satisfied: six>=1.10 in /usr/local/lib/python3.10/dist-packages (from kaggle) (1.16.0)\n",
            "Requirement already satisfied: certifi>=2023.7.22 in /usr/local/lib/python3.10/dist-packages (from kaggle) (2024.8.30)\n",
            "Requirement already satisfied: python-dateutil in /usr/local/lib/python3.10/dist-packages (from kaggle) (2.8.2)\n",
            "Requirement already satisfied: requests in /usr/local/lib/python3.10/dist-packages (from kaggle) (2.32.3)\n",
            "Requirement already satisfied: tqdm in /usr/local/lib/python3.10/dist-packages (from kaggle) (4.66.6)\n",
            "Requirement already satisfied: python-slugify in /usr/local/lib/python3.10/dist-packages (from kaggle) (8.0.4)\n",
            "Requirement already satisfied: urllib3 in /usr/local/lib/python3.10/dist-packages (from kaggle) (2.2.3)\n",
            "Requirement already satisfied: bleach in /usr/local/lib/python3.10/dist-packages (from kaggle) (6.2.0)\n",
            "Requirement already satisfied: webencodings in /usr/local/lib/python3.10/dist-packages (from bleach->kaggle) (0.5.1)\n",
            "Requirement already satisfied: text-unidecode>=1.3 in /usr/local/lib/python3.10/dist-packages (from python-slugify->kaggle) (1.3)\n",
            "Requirement already satisfied: charset-normalizer<4,>=2 in /usr/local/lib/python3.10/dist-packages (from requests->kaggle) (3.4.0)\n",
            "Requirement already satisfied: idna<4,>=2.5 in /usr/local/lib/python3.10/dist-packages (from requests->kaggle) (3.10)\n",
            "Dataset URL: https://www.kaggle.com/datasets/arbazkhan971/cuhk-face-sketch-database-cufs\n",
            "License(s): copyright-authors\n",
            "Downloading cuhk-face-sketch-database-cufs.zip to /content\n",
            " 93% 105M/113M [00:01<00:00, 94.6MB/s] \n",
            "100% 113M/113M [00:01<00:00, 72.4MB/s]\n"
          ]
        }
      ],
      "source": [
        "import os\n",
        "\n",
        "!pip install kaggle\n",
        "!kaggle datasets download -d arbazkhan971/cuhk-face-sketch-database-cufs --force\n",
        "!unzip -oq \"cuhk-face-sketch-database-cufs.zip\"\n",
        "\n",
        "def list_files_in_folder(folder_path):\n",
        "  \"\"\"Lists all files in a given folder.\"\"\"\n",
        "  try:\n",
        "    file_list = os.listdir(folder_path)\n",
        "    return file_list\n",
        "  except FileNotFoundError:\n",
        "    print(f\"Error: Folder not found at {folder_path}\")\n",
        "    return []\n",
        "\n",
        "photos_folder = \"photos\"\n",
        "files_in_photos = list_files_in_folder(photos_folder)"
      ]
    },
    {
      "cell_type": "code",
      "source": [
        "print(files_in_photos)\n",
        "print(len(files_in_photos))"
      ],
      "metadata": {
        "colab": {
          "base_uri": "https://localhost:8080/"
        },
        "id": "qCj9I4mlWzlv",
        "outputId": "c573b81c-d86b-417d-ff77-7757e65f40e5"
      },
      "execution_count": null,
      "outputs": [
        {
          "output_type": "stream",
          "name": "stdout",
          "text": [
            "['m-014-01.jpg', 'm-074-01.jpg', 'm1-024-01.jpg', 'f1-002-01.jpg', 'f-014-01.jpg', 'm-026-01.jpg', 'm1-033-01.jpg', 'm-054-01.jpg', 'm1-009-01.jpg', 'f-012-01.jpg', 'm-084-01.jpg', 'f-032-01.jpg', 'm-059-01.jpg', 'm-067-01.jpg', 'f-042-01.jpg', 'm-039-01.jpg', 'f-043-01.jpg', 'm-061-01.jpg', 'm1-038-01.jpg', 'm-013-01.jpg', 'f-022-01.jpg', 'm1-020-01.jpg', 'f1-009-01.jpg', 'm-047-01.jpg', 'm1-032-01.jpg', 'f-020-01.jpg', 'm1-005-01.jpg', 'f-040-01.jpg', 'm1-040-01.jpg', 'f-023-01.jpg', 'm-016-01.jpg', 'm1-031-01.jpg', 'm-075-01.jpg', 'm-055-01.jpg', 'm-090-01.jpg', 'm-053-01.jpg', 'm-009-01.jpg', 'f-027-01.jpg', 'm1-011-01.jpg', 'm1-002-01.jpg', 'm-093-01.jpg', 'm-050-01.jpg', 'm1-029-01.jpg', 'f1-004-01.jpg', 'f1-003-01.jpg', 'f-008-01.jpg', 'm-096-01.jpg', 'f1-011-01.jpg', 'm-030-01.jpg', 'm-017-01.jpg', 'f1-015-01.jpg', 'm-043-01.jpg', 'm1-035-01.jpg', 'm1-007-01.jpg', 'f1-001-01.jpg', 'm-056-01.jpg', 'm-100-01.jpg', 'f-036-01.jpg', 'm1-034-01.jpg', 'f-015-01.jpg', 'm1-022-01.jpg', 'm1-017-01.jpg', 'f-026-01.jpg', 'm-021-01.jpg', 'm-015-01.jpg', 'm-035-01.jpg', 'f-033-01.jpg', 'f-024-01.jpg', 'f-030-01.jpg', 'm-060-01.jpg', 'f-025-01.jpg', 'm-008-01.jpg', 'f-018-01.jpg', 'm-052-01.jpg', 'm-080-01.jpg', 'm-029-01.jpg', 'm-022-01.jpg', 'm-069-01.jpg', 'm-042-01.jpg', 'f-041-01.jpg', 'f-037-01.jpg', 'm-024-01.jpg', 'm1-014-01.jpg', 'f-016-01.jpg', 'f1-013-01.jpg', 'f-038-01.jpg', 'f1-006-01.jpg', 'm-091-01.jpg', 'm1-013-01.jpg', 'm-095-01.jpg', 'm-086-01.jpg', 'm-033-01.jpg', 'f-035-01.jpg', 'm-032-01.jpg', 'm-082-01.jpg', 'm-070-01.jpg', 'f-009-01.jpg', 'm-087-01.jpg', 'm-023-01.jpg', 'm-071-01.jpg', 'm-058-01.jpg', 'm1-019-01.jpg', 'm-085-01.jpg', 'f-006-01.jpg', 'm1-037-01.jpg', 'm1-016-01.jpg', 'm-099-01.jpg', 'm-011-01.jpg', 'm-051-01.jpg', 'm-019-01.jpg', 'm-010-01.jpg', 'f1-010-01.jpg', 'f1-014-01.jpg', 'f1-005-01.jpg', 'm-045-01.jpg', 'm-018-01.jpg', 'm-097-01.jpg', 'm-068-01.jpg', 'm1-003-01.jpg', 'm-079-01.jpg', 'm1-008-01.jpg', 'm-034-01.jpg', 'f1-008-01.jpg', 'f-010-01.jpg', 'f-019-01.jpg', 'm-077-01.jpg', 'f-028-01.jpg', 'm-081-01.jpg', 'm-038-01.jpg', 'f1-012-01.jpg', 'm1-018-01.jpg', 'f-029-01.jpg', 'm-076-01.jpg', 'm1-039-01.jpg', 'm-037-01.jpg', 'm-027-01.jpg', 'm1-025-01.jpg', 'm1-015-01.jpg', 'm-065-01.jpg', 'm1-001-01.jpg', 'm1-026-01.jpg', 'm-089-01.jpg', 'm-072-01.jpg', 'm-063-01.jpg', 'm1-027-01.jpg', 'm-062-01.jpg', 'm1-012-01.jpg', 'm-012-01.jpg', 'm-028-01.jpg', 'm1-010-01.jpg', 'm-078-01.jpg', 'm-044-01.jpg', 'm1-036-01.jpg', 'm1-041-01.jpg', 'f-011-01.jpg', 'm-057-01.jpg', 'm-083-01.jpg', 'f-017-01.jpg', 'm-098-01.jpg', 'f-007-01.jpg', 'm-064-01.jpg', 'f-005-01.jpg', 'm1-004-01.jpg', 'm-048-01.jpg', 'm1-021-01.jpg', 'm-046-01.jpg', 'm-092-01.jpg', 'm-094-01.jpg', 'm1-023-01.jpg', 'f-039-01.jpg', 'f1-007-01.jpg', 'f-021-01.jpg', 'm-036-01.jpg', 'f-034-01.jpg', 'm-073-01.jpg', 'm-031-01.jpg', 'm-040-01.jpg', 'm-088-01.jpg', 'f-031-01.jpg', 'm-101-01.jpg', 'm1-028-01.jpg', 'f-013-01.jpg', 'm-041-01.jpg', 'm-025-01.jpg', 'm-049-01.jpg', 'm1-006-01.jpg', 'm1-030-01.jpg', 'm-066-01.jpg']\n",
            "188\n"
          ]
        }
      ]
    }
  ]
}